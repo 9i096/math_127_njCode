{
 "cells": [
  {
   "cell_type": "code",
   "execution_count": 2,
   "metadata": {
    "collapsed": true
   },
   "outputs": [],
   "source": [
    "import scipy.io as sio\n",
    "data = sio.loadmat('flhivdata.mat')"
   ]
  },
  {
   "cell_type": "code",
   "execution_count": 3,
   "metadata": {},
   "outputs": [
    {
     "data": {
      "text/plain": [
       "array([ u'CTAGCAGAAGAGGAGGTAGTAATTAGATCTGAAAATTTCACGAACAATGCTAAAACCATAATAGTACAACTGAAAGAATCTGTAAAAATTAATTGTATAAGACCCAACAACAATACAAGAAGAAGTATAAATATGGGACCAGGGAGGGCATTTTATACAACAGGAGACATAATAGGAGATATAAGACAAGCACATTGTAACATTAGTAAAGCAGAGTGGAATAACACTTTAAAACAGATAGTTCAAAAATTAAAAGAACAATTTAGGAATAAAACAATAGTCTTTAATCAATCCTCAGGAGGGGACCCAGAAGTTGTAACACACAGTTTT'],\n",
       "      dtype='<U330')"
      ]
     },
     "execution_count": 3,
     "metadata": {},
     "output_type": "execute_result"
    }
   ],
   "source": [
    "data['lc5']"
   ]
  },
  {
   "cell_type": "code",
   "execution_count": null,
   "metadata": {},
   "outputs": [],
   "source": [
    "import random\n",
    "import numpy\n",
    "import scipy\n",
    "\n",
    "length = len(data['lc5'])\n",
    "term = 5\n",
    "alpha = 3\n",
    "         \n",
    "isq = data['lc5']\n",
    "\n",
    "n = 1\n",
    "time = 0\n",
    "\n",
    "print('This is the sequence you are using:', isq)\n",
    "           \n",
    "#doing the JC evolution\n",
    "\n",
    "Mi = numpy.matrix([[1 - alpha, alpha / 3, alpha / 3, alpha / 3],\n",
    "                  [alpha / 3, 1 - alpha, alpha / 3, alpha / 3],\n",
    "                  [alpha / 3, alpha / 3, 1 - alpha, alpha / 3],\n",
    "                  [alpha / 3, alpha / 3, alpha / 3, 1 - alpha]])\n",
    "        #INSERT MATRIX HERE\n",
    "        #JC Matrix\n",
    "M = Mi\n",
    "slist = [isq]\n",
    "timelist = [0]\n",
    "\n",
    "while n <= term:\n",
    "    #read isq\n",
    "    time = time + 1\n",
    "    nsq = ''\n",
    "    for letter in isq:\n",
    "        ranmut = random.uniform(0,1)        #generate a random number between 0 and 1\n",
    "\n",
    "        if letter == 'A':\n",
    "            if ranmut <= M[0,0]:        #first term in the matrix\n",
    "                letter = 'A'            #prob is A\n",
    "            #somehow replace A with A in the original sequence\n",
    "            elif ranmut <= M[0,1] + M[0,0]:\n",
    "                letter = 'T'\n",
    "            #replace A with T\n",
    "            elif ranmut <= M[0,2] + M[0,1] + M[0,0]:\n",
    "                letter = 'G'\n",
    "            #replace A with G\n",
    "            elif ranmut <= 1:\n",
    "                letter = 'C'\n",
    "            #replace A with C\n",
    "        \n",
    "        \n",
    "        elif letter == 'T':         \n",
    "            if ranmut <= M[1,0]:\n",
    "                letter = 'A'\n",
    "            #somehow replace c with A in the original sequence\n",
    "            elif ranmut <= M[1,1] + M[1,0]:\n",
    "                letter = 'T'\n",
    "            #replace T with T\n",
    "            elif ranmut <= M[1,2] + M[1,1] + M[1,0]:\n",
    "                letter = 'G'\n",
    "            #replace T with G\n",
    "            elif ranmut <= 1:\n",
    "                letter = 'C'\n",
    "            #replace T with C\n",
    "\n",
    "\n",
    "        elif letter == 'G':\n",
    "            if ranmut <= M[2,0]:\n",
    "                letter = 'A'\n",
    "            #somehow replace G with A in the original sequence\n",
    "            elif ranmut <= M[2,1] + M[2,0]:\n",
    "                letter = 'T'\n",
    "            #replace G with T\n",
    "            elif ranmut <= M[2,2] + M[2,1] + M[2,0]:\n",
    "                letter = 'G'\n",
    "            #replace G with G\n",
    "            elif ranmut <= 1:\n",
    "                letter = 'C'\n",
    "            #replace G with C\n",
    "\n",
    "\n",
    "        elif letter == 'C':\n",
    "            if ranmut <= M[3,0]:\n",
    "                letter = 'A'\n",
    "            #somehow replace C with A in the original sequence\n",
    "            elif ranmut <= M[3,1] + M[3,0]:\n",
    "                letter = 'T'\n",
    "            #replace C with T\n",
    "            elif ranmut <= M[3,2] + M[3,1] + M[3,0]:\n",
    "                letter = 'G'\n",
    "            #replace C with G\n",
    "            elif ranmut <= 1:\n",
    "                letter = 'C'\n",
    "            #replace C with C\n",
    "        nsq += letter\n",
    "\n",
    "        \n",
    "    M = M.dot(Mi)    #move the matrix one more dimension down\n",
    "    \n",
    "#now check if the sequence is the same if not add to the list, if it is then ignore and repeat\n",
    "    if isq != nsq:\n",
    "        slist.append(nsq)\n",
    "        isq = nsq\n",
    "        timelist.append(time)\n",
    "        n = n + 1\n",
    "        M = Mi\n",
    "\n",
    "\n",
    "#final step list the sequences and the final distances\n",
    "print('')\n",
    "for sequence in slist:\n",
    "    print(sequence)\n",
    "print('')\n",
    "print('Mutation times: ', timelist)\n",
    "print(M)"
   ]
  }
 ],
 "metadata": {
  "kernelspec": {
   "display_name": "Python 2",
   "language": "python",
   "name": "python2"
  },
  "language_info": {
   "codemirror_mode": {
    "name": "ipython",
    "version": 2
   },
   "file_extension": ".py",
   "mimetype": "text/x-python",
   "name": "python",
   "nbconvert_exporter": "python",
   "pygments_lexer": "ipython2",
   "version": "2.7.13"
  }
 },
 "nbformat": 4,
 "nbformat_minor": 2
}
