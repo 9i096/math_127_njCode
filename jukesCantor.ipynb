{
 "cells": [
  {
   "cell_type": "code",
   "execution_count": 15,
   "metadata": {},
   "outputs": [],
   "source": [
    "import scipy.io as sio\n",
    "import numpy as np\n",
    "data = sio.loadmat('flhivdata.mat')"
   ]
  },
  {
   "cell_type": "code",
   "execution_count": 16,
   "metadata": {},
   "outputs": [
    {
     "name": "stdout",
     "output_type": "stream",
     "text": [
      "['lc5', '__globals__', 'lc1', 'ptd', 'ptc', 'ptb', '__header__', 'dnt', '__version__']\n"
     ]
    }
   ],
   "source": [
    "print(data.keys())"
   ]
  },
  {
   "cell_type": "code",
   "execution_count": 17,
   "metadata": {},
   "outputs": [
    {
     "data": {
      "text/plain": [
       "{'__globals__': [],\n",
       " '__header__': 'MATLAB 5.0 MAT-file, Platform: GLNXA64, Created on: Thu Feb 25 12:16:47 2016',\n",
       " '__version__': '1.0',\n",
       " 'dnt': array([ u'CTAGCAGAAGAAGAGGTAGTAATTAGATCTGCCAATTTCACAGACAATGCTAAAATCATAATAGTACAGCTGAATGCATCTGTAGAAATTAATTGTACAAGGCCCAACAACAATACAAGAAAAGGTATACATATAGGACCAGGGAGAGCATTTTATGCAACAGGAGAAATAATAGGAGATATAAGACAAGCACATTGTAACATTAGTAGAGAAAAATGGAATAATACTTTAAACCAGGTAGTTACAGAATTAAGGGAACAATTTGGGAATAAAACAATAACCTTTAATCACTCCTCAGGAGGGGACCCAGAAATTGTAATGCACAGTTTTAATTGTGGAGGGGAATTTTTCTATTGTAAT'],\n",
       "       dtype='<U360'),\n",
       " 'lc1': array([ u'CTAGCAGAAGAAGAAGTAGTAATTAGATCTGAAAATTTCACGAATAATGCTAAAATCATAATAGTACACCTGAATAAAACTGTAAATATTACTTGTACAAGACCCAACAACAATACAAGAAGAAGTATACCTATGGGACCAGGGAAAGCATTTTATACAACAGAAATAATAGGAAATATAAGACAAGCACATTGTAACCTTAGTAAAGCAGAATGGAATAACACTTTAAGACAGATAGTTAAAAAGTTAAGAGAACAATTTAAGAATAAAACAATAGTCTTCAATCACTCCTCAGGAGGGGACCCAGAAATTGTAATGCACAGTT'],\n",
       "       dtype='<U325'),\n",
       " 'lc5': array([ u'CTAGCAGAAGAGGAGGTAGTAATTAGATCTGAAAATTTCACGAACAATGCTAAAACCATAATAGTACAACTGAAAGAATCTGTAAAAATTAATTGTATAAGACCCAACAACAATACAAGAAGAAGTATAAATATGGGACCAGGGAGGGCATTTTATACAACAGGAGACATAATAGGAGATATAAGACAAGCACATTGTAACATTAGTAAAGCAGAGTGGAATAACACTTTAAAACAGATAGTTCAAAAATTAAAAGAACAATTTAGGAATAAAACAATAGTCTTTAATCAATCCTCAGGAGGGGACCCAGAAGTTGTAACACACAGTTTT'],\n",
       "       dtype='<U330'),\n",
       " 'ptb': array([ u'CTAGCAGAAGAAGAGATAGTAATTAGATCTGCCAATTTCACAGACAATGCTAAAATCATAATAGTACAGCTGAATGCATCTGTAGAAATTAATTGTACAAGACCCGACAACAATACAAGAAAAGGTATACATATAGGACCAGGGAGGGCATTTTATGCAACAGGAGAAATAATAGGAGATATAAGACAAGCACATTGTAACATTAGTGGAGCAAAATGGAATAATACTATAGAACAGGTAAAGACAAAATTAAGAGAACAATTTGGGAATAAAACAATAATCTTTAATCACTCCTCAGGAGGGGACCCAGAAATTGTAATGCACAGTTTTAATTGTGGAGGGG'],\n",
       "       dtype='<U343'),\n",
       " 'ptc': array([ u'CTAGCAGAAGAAGAGGTAGTAATTAGATCTGCCGATTTCACAGACAATGCTAAAATCATAATAGTACAGCTAAATGCATCTGTAGAAATTAATTGTACAAGACCTAACAACAATACAAGAAAAGGTATACATATAGGACCAGGGAGAGCAGTTTATGCAACAGACAGAATAATAGGAGATATAAGACAAGCACATTGTAACATTAGTAGAGAAAAATGGAATAATACTTTAAAACAGGTAGTTACAAAATTAAGAGAACAATTTGTGAATAAAACAATAATCTTTACTCACCCCTCAGGAGGGGACCCAGAAATTGTAATGCACAGTGTTAATTGTGGAGGGGAATTTT'],\n",
       "       dtype='<U349'),\n",
       " 'ptd': array([ u'CTAGCAGAAGAAGAGGTAGTAATTAGATCTGCAAATTTCTCGGACAATGCTAAAACCATAATAGTACAGCTGAATAAATCTGTAAAAATTCCTTGTATAAGACCCAGCAATAATACAAGACAAAGTATACCTATAGGACCAGGGAAAGCAGTTTATGCAACAGGACAGATAATAGGAGATATAAGAAAGGCACATCGTAACCTTAGTGAAGCAATATGGAATAACACGTTAAAACAGATAGTTAAAAAATTAAAAGAACAATTTAAGAATAAAACAATAGTCTTCAATCAATCCTCAGGAGGGGACCCAGAAATTGTAATGCACAGTTTTAATTGTG'],\n",
       "       dtype='<U337')}"
      ]
     },
     "execution_count": 17,
     "metadata": {},
     "output_type": "execute_result"
    }
   ],
   "source": [
    "data"
   ]
  },
  {
   "cell_type": "code",
   "execution_count": 23,
   "metadata": {},
   "outputs": [
    {
     "name": "stdout",
     "output_type": "stream",
     "text": [
      "[[ u'CTAGCAGAAGAAGAGGTAGTAATTAGATCTGCCAATTTCACAGACAATGCTAAAATCATAATAGTACAGCTGAATGCATCTGTAGAAATTAATTGTACAAGGCCCAACAACAATACAAGAAAAGGTATACATATAGGACCAGGGAGAGCATTTTATGCAACAGGAGAAATAATAGGAGATATAAGACAAGCACATTGTAACATTAGTAGAGAAAAATGGAATAATACTTTAAACCAGGTAGTTACAGAATTAAGGGAACAATTTGGGAATAAAACAATAACCTTTAATCACTCCTCAGGAGGGGACCCAGAAATTGTAATGCACAGTTTTAATTGTGGAGGGGAATTTTTCTATTGTAAT']\n",
      " [ u'CTAGCAGAAGAAGAAGTAGTAATTAGATCTGAAAATTTCACGAATAATGCTAAAATCATAATAGTACACCTGAATAAAACTGTAAATATTACTTGTACAAGACCCAACAACAATACAAGAAGAAGTATACCTATGGGACCAGGGAAAGCATTTTATACAACAGAAATAATAGGAAATATAAGACAAGCACATTGTAACCTTAGTAAAGCAGAATGGAATAACACTTTAAGACAGATAGTTAAAAAGTTAAGAGAACAATTTAAGAATAAAACAATAGTCTTCAATCACTCCTCAGGAGGGGACCCAGAAATTGTAATGCACAGTT']\n",
      " [ u'CTAGCAGAAGAGGAGGTAGTAATTAGATCTGAAAATTTCACGAACAATGCTAAAACCATAATAGTACAACTGAAAGAATCTGTAAAAATTAATTGTATAAGACCCAACAACAATACAAGAAGAAGTATAAATATGGGACCAGGGAGGGCATTTTATACAACAGGAGACATAATAGGAGATATAAGACAAGCACATTGTAACATTAGTAAAGCAGAGTGGAATAACACTTTAAAACAGATAGTTCAAAAATTAAAAGAACAATTTAGGAATAAAACAATAGTCTTTAATCAATCCTCAGGAGGGGACCCAGAAGTTGTAACACACAGTTTT']\n",
      " [ u'CTAGCAGAAGAAGAGATAGTAATTAGATCTGCCAATTTCACAGACAATGCTAAAATCATAATAGTACAGCTGAATGCATCTGTAGAAATTAATTGTACAAGACCCGACAACAATACAAGAAAAGGTATACATATAGGACCAGGGAGGGCATTTTATGCAACAGGAGAAATAATAGGAGATATAAGACAAGCACATTGTAACATTAGTGGAGCAAAATGGAATAATACTATAGAACAGGTAAAGACAAAATTAAGAGAACAATTTGGGAATAAAACAATAATCTTTAATCACTCCTCAGGAGGGGACCCAGAAATTGTAATGCACAGTTTTAATTGTGGAGGGG']\n",
      " [ u'CTAGCAGAAGAAGAGGTAGTAATTAGATCTGCCGATTTCACAGACAATGCTAAAATCATAATAGTACAGCTAAATGCATCTGTAGAAATTAATTGTACAAGACCTAACAACAATACAAGAAAAGGTATACATATAGGACCAGGGAGAGCAGTTTATGCAACAGACAGAATAATAGGAGATATAAGACAAGCACATTGTAACATTAGTAGAGAAAAATGGAATAATACTTTAAAACAGGTAGTTACAAAATTAAGAGAACAATTTGTGAATAAAACAATAATCTTTACTCACCCCTCAGGAGGGGACCCAGAAATTGTAATGCACAGTGTTAATTGTGGAGGGGAATTTT']\n",
      " [ u'CTAGCAGAAGAAGAGGTAGTAATTAGATCTGCAAATTTCTCGGACAATGCTAAAACCATAATAGTACAGCTGAATAAATCTGTAAAAATTCCTTGTATAAGACCCAGCAATAATACAAGACAAAGTATACCTATAGGACCAGGGAAAGCAGTTTATGCAACAGGACAGATAATAGGAGATATAAGAAAGGCACATCGTAACCTTAGTGAAGCAATATGGAATAACACGTTAAAACAGATAGTTAAAAAATTAAAAGAACAATTTAAGAATAAAACAATAGTCTTCAATCAATCCTCAGGAGGGGACCCAGAAATTGTAATGCACAGTTTTAATTGTG']]\n"
     ]
    }
   ],
   "source": [
    "seq_mat_values = ([data['dnt'], data['lc1'], data['lc5'], data['ptb'], data['ptc'], data['ptd']])\n",
    "seq_matrix = np.matrix(seq_mat_values)\n",
    "print(seq_matrix)"
   ]
  },
  {
   "cell_type": "code",
   "execution_count": null,
   "metadata": {
    "collapsed": true
   },
   "outputs": [],
   "source": [
    "def sequenceAlign(s1, s2, simMatrix=simDNA):\n",
    "    numI = len(s1) + 1\n",
    "    numJ = len(s2) + 1\n",
    "    scoreMatrix = [[0] * numJ for x in range(numI)]\n",
    "    routeMatrix = [[0] * numJ for x in range(numI)]\n",
    "    for i in range(1, numI):\n",
    "        routeMatrix[i][0] = 1\n",
    "    for j in range(1, numJ):\n",
    "        routeMatrix[0][j] = 2\n",
    "    for i in range(1, numI):\n",
    "        for j in range(1, numJ):\n",
    "            penalty 1 = insert\n",
    "            penalty 2 = insert\n",
    "    if routeMatrix[i-1][j] == 1:\n",
    "        penalty1 = extend"
   ]
  },
  {
   "cell_type": "code",
   "execution_count": null,
   "metadata": {
    "collapsed": true
   },
   "outputs": [],
   "source": [
    "def calcSeqSimilarity(s1, s2, simMatrix):\n",
    "    numPlaces = min(len(s1), len(s2))\n",
    "    totalScore = 0.0\n",
    "    for i in range(numPlaces):\n",
    "        residueA = s1[1]\n",
    "        residueB = s2[i]\n",
    "        totalScore += simMatrix[residueA][residueB]\n",
    "    return totalScore"
   ]
  },
  {
   "cell_type": "code",
   "execution_count": null,
   "metadata": {
    "collapsed": true
   },
   "outputs": [],
   "source": [
    "def JukesCantor(seq_matrix):\n",
    "    n = len(seq_matrix)\n",
    "    matrix = [[0.0] * n for x in range(n)]\n",
    "    maxScores = [calcSeqSimilarity(x, x, simMatrix) for x in seqs]\n",
    "    \n",
    "    for i in range(n-1):\n",
    "        s1 = seqs[i]\n",
    "        \n",
    "        for j in range(i+1, n):\n",
    "            s2 = seqs[j]\n",
    "            \n",
    "            score, alignA, alignB = sequenceAlign(s1, s2, simMatrix)\n",
    "            maxScore = max(maxScores[i], maxScores[j])\n",
    "            dist = maxScore - score\n",
    "            \n",
    "            matrix[i][j] = dist\n",
    "            matrix[j][i] = dist\n",
    "            \n",
    "    return matrix"
   ]
  }
 ],
 "metadata": {
  "kernelspec": {
   "display_name": "Python 2",
   "language": "python",
   "name": "python2"
  },
  "language_info": {
   "codemirror_mode": {
    "name": "ipython",
    "version": 2
   },
   "file_extension": ".py",
   "mimetype": "text/x-python",
   "name": "python",
   "nbconvert_exporter": "python",
   "pygments_lexer": "ipython2",
   "version": "2.7.13"
  }
 },
 "nbformat": 4,
 "nbformat_minor": 2
}
