{
 "cells": [
  {
   "cell_type": "markdown",
   "metadata": {},
   "source": [
    "Code for Sequence Alignment, Sequence Similarity, and calculating the distance matrix from these"
   ]
  },
  {
   "cell_type": "code",
   "execution_count": 1,
   "metadata": {
    "collapsed": true
   },
   "outputs": [],
   "source": [
    "import scipy.io as sio\n",
    "#seq_data = sio.loadmat('flhivdata.mat')"
   ]
  },
  {
   "cell_type": "code",
   "execution_count": 2,
   "metadata": {},
   "outputs": [],
   "source": [
    "#seq_data['lc5'] # example sequence from dataset"
   ]
  },
  {
   "cell_type": "code",
   "execution_count": 9,
   "metadata": {
    "collapsed": true
   },
   "outputs": [],
   "source": [
    "align = ['AAGCCGCACACAGACCCTGAG', \n",
    "          'AAGCTGCACGCAGACCCTGAG', \n",
    "          'AGGCTGCACGCAGACCCTGAG', \n",
    "          'AAGCTGCACGTGGACCCTGAG', \n",
    "          'AGGCTGCACGTGGACCCTGAG', \n",
    "          'AGGCTGCACGTGGACCCTGAG', \n",
    "          'AAGCTGCATGTGGACCCTGAG']"
   ]
  },
  {
   "cell_type": "markdown",
   "metadata": {},
   "source": [
    "Below is a similarity matrix determined by the likelihood of transition vs transversion mutations. Over the entire genome, a base that is related by a transition to another base is twice as likely to be mutated to that base than a base it is related to by transversion. For example, A and G are related by transition, since they are both purines. A transition mutation from A to G or vice-versa would then be twice as likely as a transversion mutation. Thus, in a similarity matrix, we could define an A to G mutation or a G to A transition as half as dissimilar as any transversion mutation. We could also define the lack of mutation, in which a base stays the same, as a score of 0. Scores in this similarity matrix range from identical at 0 to very dissimilar at 2."
   ]
  },
  {
   "cell_type": "code",
   "execution_count": 10,
   "metadata": {
    "collapsed": true
   },
   "outputs": [],
   "source": [
    "DNA_sim = {'G': { 'A': 1, 'G': 0, 'C': 2, 'T': 2 },\n",
    "         'C': { 'A': 1, 'G': 2, 'C': 0, 'T': 1 },\n",
    "         'T': { 'A': 2, 'G': 2, 'C': 1, 'T': 0 },\n",
    "         'A': { 'A': 0, 'G': 1, 'C': 2, 'T': 2 }}"
   ]
  },
  {
   "cell_type": "code",
   "execution_count": 11,
   "metadata": {},
   "outputs": [],
   "source": [
    "def sequenceAlign(s1, s2, simMatrix=DNA_sim, insert=8, extend=4):\n",
    "\n",
    "  numI = len(s1) + 1\n",
    "  numJ = len(s2) + 1\n",
    "\n",
    "  scoreMatrix = [[0] * numJ for x in range(numI)]\n",
    "  routeMatrix = [[0] * numJ for x in range(numI)]\n",
    "  \n",
    "  for i in range(1, numI):\n",
    "    routeMatrix[i][0] = 1\n",
    "  \n",
    "  for j in range(1, numJ):\n",
    "    routeMatrix[0][j] = 2\n",
    "  \n",
    "  for i in range(1, numI):\n",
    "    for j in range(1, numJ):\n",
    "    \n",
    "      penalty1 = insert\n",
    "      penalty2 = insert\n",
    "      \n",
    "      if routeMatrix[i-1][j] == 1:\n",
    "        penalty1 = extend\n",
    "        \n",
    "      elif routeMatrix[i][j-1] == 2:\n",
    "        penalty2 = extend\n",
    "        \n",
    "      similarity = simMatrix[ s1[i-1] ][ s2[j-1] ]\n",
    "      \n",
    "      paths = [scoreMatrix[i-1][j-1] + similarity, # Route 0\n",
    "               scoreMatrix[i-1][j] - penalty1, # Route 1\n",
    "               scoreMatrix[i][j-1] - penalty2] # Route 2                     \n",
    "      \n",
    "      best = max(paths)\n",
    "      route = paths.index(best)           \n",
    "\n",
    "      scoreMatrix[i][j] = best\n",
    "      routeMatrix[i][j] = route\n",
    "      \n",
    "  alignA = []\n",
    "  alignB = []\n",
    "  \n",
    "  i = numI-1\n",
    "  j = numJ-1\n",
    "  score = scoreMatrix[i][j]\n",
    "\n",
    "    \n",
    "  while i > 0 or j > 0:\n",
    "    route = routeMatrix[i][j]    \n",
    "\n",
    "    if route == 0: # Diagonal\n",
    "      alignA.append( s1[i-1] )\n",
    "      alignB.append( s2[j-1] )\n",
    "      i -= 1\n",
    "      j -= 1\n",
    "  \n",
    "  alignA.reverse()\n",
    "  alignB.reverse()\n",
    "  alignA = ''.join(alignA)\n",
    "  alignB = ''.join(alignB)\n",
    "\n",
    "  return score, alignA, alignB "
   ]
  },
  {
   "cell_type": "code",
   "execution_count": 12,
   "metadata": {
    "collapsed": true
   },
   "outputs": [],
   "source": [
    "def calcSeqSimilarity(s1, s2, simMatrix):\n",
    "    numPlaces = min(len(s1), len(s2))\n",
    "    totalScore = 0.0\n",
    "    for i in range(numPlaces):\n",
    "        residueA = s1[1]\n",
    "        residueB = s2[i]\n",
    "        totalScore += simMatrix[residueA][residueB]\n",
    "    return totalScore"
   ]
  },
  {
   "cell_type": "code",
   "execution_count": 13,
   "metadata": {
    "collapsed": true
   },
   "outputs": [],
   "source": [
    "def getDistanceMatrix(seq_data, simMatrix):\n",
    "    n = len(seq_data)\n",
    "    matrix = [[0.0] * n for x in range(n)]\n",
    "    maxScores = [calcSeqSimilarity(x, x, simMatrix) for x in seq_data]\n",
    "    \n",
    "    for i in range(n-1):\n",
    "        s1 = seq_data[i]\n",
    "        \n",
    "        for j in range(i+1, n):\n",
    "            s2 = seq_data[j]\n",
    "            \n",
    "            score, alignA, alignB = sequenceAlign(s1, s2, simMatrix, insert=8, extend=4)\n",
    "            maxScore = max(maxScores[i], maxScores[j])\n",
    "            dist = maxScore - score\n",
    "            \n",
    "            matrix[i][j] = dist\n",
    "            matrix[j][i] = dist\n",
    "            \n",
    "    return matrix"
   ]
  },
  {
   "cell_type": "code",
   "execution_count": null,
   "metadata": {},
   "outputs": [],
   "source": [
    "dMatrix = getDistanceMatrix(align, DNA_sim)"
   ]
  }
 ],
 "metadata": {
  "kernelspec": {
   "display_name": "Python 2",
   "language": "python",
   "name": "python2"
  },
  "language_info": {
   "codemirror_mode": {
    "name": "ipython",
    "version": 2
   },
   "file_extension": ".py",
   "mimetype": "text/x-python",
   "name": "python",
   "nbconvert_exporter": "python",
   "pygments_lexer": "ipython2",
   "version": "2.7.13"
  }
 },
 "nbformat": 4,
 "nbformat_minor": 2
}
