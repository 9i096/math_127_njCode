{
 "cells": [
  {
   "cell_type": "code",
   "execution_count": 1,
   "metadata": {
    "collapsed": true
   },
   "outputs": [],
   "source": [
    "sequence1 = 'ATATCGCGCGCG'\n",
    "sequence2 = 'ATATCGCGTACG'"
   ]
  },
  {
   "cell_type": "code",
   "execution_count": 8,
   "metadata": {},
   "outputs": [],
   "source": [
    "import math\n",
    "\n",
    "def calculate_jukes_cantor(sequence1, sequence2):\n",
    "    '''Calculate the Jukes-Cantor distance between the two provided aligned\n",
    "    sequences.\n",
    "    \n",
    "    Based on pseudocode provided on page 116 of the textbook.'''\n",
    "    \n",
    "    # Initialization\n",
    "    difference_counter = 0\n",
    "    length_counter = 0\n",
    "    \n",
    "    # Step 1: Count differences between sequences, ignoring gaps\n",
    "    for i in range(min(len(sequence1), len(sequence2))):\n",
    "        if sequence1[i] != '-' and sequence2[i] != '-':\n",
    "            length_counter += 1\n",
    "            if sequence1[i] != sequence2[i]:\n",
    "                difference_counter += 1\n",
    "    \n",
    "    # Step 2: Calculate and return results\n",
    "    substitutions_fraction = float(difference_counter) / float(length_counter)\n",
    "    jukes = -3.0/4.0 * math.log(1 - (4.0/3.0 * substitutions_fraction))\n",
    "    return jukes\n",
    "\n",
    "class ScoringMatrixCell:\n",
    "    '''A class implementing individual cells within the scoring matrix.'''\n",
    "    def __init__(self, score=0.0):\n",
    "        '''Initializes this ScoringMatrixCell instance.\n",
    "        If the arguments are omitted, a cell with a score of 0 will be created\n",
    "        by default.'''\n",
    "        self.score = score\n",
    "    \n",
    "    def get_score(self):\n",
    "        '''Returns this cell's current score.'''\n",
    "        return self.score\n",
    "    \n",
    "    def set_score(self, score):\n",
    "        '''Updates this cell's score to the new one supplied.'''\n",
    "        self.score = score\n",
    "\n",
    "class ScoringMatrix:\n",
    "    '''A class implementing a scoring matrix.'''\n",
    "    def __init__(self, sequences):\n",
    "        '''Initializes a new scoring matrix with the supplied sequences.\n",
    "        sequences isthe list of sequences to compute score for.'''\n",
    "        self.matrix_size = len(sequences)\n",
    "        if self.matrix_size < 1:\n",
    "            self.matrix = []\n",
    "        elif self.matrix_size < 2:\n",
    "            self.matrix = [ScoringMatrixCell(0.0)]\n",
    "        else:\n",
    "            self.matrix = [[ScoringMatrixCell() for x in range(self.matrix_size)]\n",
    "                           for x in range(self.matrix_size)]\n",
    "            self.calculate_scores(sequences)\n",
    "    \n",
    "    def get_size(self):\n",
    "        '''Returns the number of sequences used to generate this matrix.'''\n",
    "        return self.matrix_size\n",
    "    \n",
    "    def get_score(self, row, column):\n",
    "        '''Gets the current score at the specified row and column.'''\n",
    "        try:\n",
    "            return self.matrix[row][column].get_score()\n",
    "        except IndexError:\n",
    "            print \"IndexError in get_score({0!s}, {1!s})\".format(row, column)\n",
    "            exit(1)\n",
    "    \n",
    "    def set_score(self, row, column, score):\n",
    "        '''Sets the score at the specified row and column.'''\n",
    "        try:\n",
    "            self.matrix[row][column].set_score(score)\n",
    "        except IndexError:\n",
    "            print \"IndexError in set_score({0!s}, {1!s})\".format(row, column)\n",
    "            exit(1)\n",
    "    \n",
    "    def calculate_scores(self, sequences):\n",
    "        '''Calculates the scores for all cells given the sequences.'''\n",
    "        for i in range(len(sequences)):\n",
    "            for j in range(len(sequences)):\n",
    "                self.set_score(i, j,\n",
    "                         c = calculate_jukes_cantor(sequences[i], sequences[j]))\n",
    "                print(c)\n"
   ]
  },
  {
   "cell_type": "code",
   "execution_count": 4,
   "metadata": {},
   "outputs": [
    {
     "name": "stdout",
     "output_type": "stream",
     "text": [
      "<function calculate_jukes_cantor at 0x7094ed2b7e60>\n"
     ]
    }
   ],
   "source": []
  }
 ],
 "metadata": {
  "kernelspec": {
   "display_name": "Python 2",
   "language": "python",
   "name": "python2"
  },
  "language_info": {
   "codemirror_mode": {
    "name": "ipython",
    "version": 2
   },
   "file_extension": ".py",
   "mimetype": "text/x-python",
   "name": "python",
   "nbconvert_exporter": "python",
   "pygments_lexer": "ipython2",
   "version": "2.7.13"
  }
 },
 "nbformat": 4,
 "nbformat_minor": 2
}
