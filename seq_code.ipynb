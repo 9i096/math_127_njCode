{
 "cells": [
  {
   "cell_type": "markdown",
   "metadata": {},
   "source": [
    "Code for Sequence Alignment, Sequence Similarity, and calculating the distance matrix from these"
   ]
  },
  {
   "cell_type": "code",
   "execution_count": null,
   "metadata": {},
   "outputs": [],
   "source": [
    "def sequenceAlign(s1, s2, simMatrix=simDNA):\n",
    "    numI = len(s1) + 1\n",
    "    numJ = len(s2) + 1\n",
    "    scoreMatrix = [[0] * numJ for x in range(numI)]\n",
    "    routeMatrix = [[0] * numJ for x in range(numI)]\n",
    "    for i in range(1, numI):\n",
    "        routeMatrix[i][0] = 1\n",
    "    for j in range(1, numJ):\n",
    "        routeMatrix[0][j] = 2\n",
    "    for i in range(1, numI):\n",
    "        for j in range(1, numJ):\n",
    "            penalty 1 = insert\n",
    "            penalty 2 = insert\n",
    "    if routeMatrix[i-1][j] == 1:\n",
    "        penalty1 = extend"
   ]
  },
  {
   "cell_type": "code",
   "execution_count": null,
   "metadata": {
    "collapsed": true
   },
   "outputs": [],
   "source": [
    "def calcSeqSimilarity(s1, s2, simMatrix):\n",
    "    numPlaces = min(len(s1), len(s2))\n",
    "    totalScore = 0.0\n",
    "    for i in range(numPlaces):\n",
    "        residueA = s1[1]\n",
    "        residueB = s2[i]\n",
    "        totalScore += simMatrix[residueA][residueB]\n",
    "    return totalScore"
   ]
  },
  {
   "cell_type": "code",
   "execution_count": null,
   "metadata": {
    "collapsed": true
   },
   "outputs": [],
   "source": [
    "def getDistanceMatrix(seqs, simMatrix):\n",
    "    n = len(seqs)\n",
    "    matrix = [[0.0] * n for x in range(n)]\n",
    "    maxScores = [calcSeqSimilarity(x, x, simMatrix) for x in seqs]\n",
    "    \n",
    "    for i in range(n-1):\n",
    "        s1 = seqs[i]\n",
    "        \n",
    "        for j in range(i+1, n):\n",
    "            s2 = seqs[j]\n",
    "            \n",
    "            score, alignA, alignB = sequenceAlign(s1, s2, simMatrix)\n",
    "            maxScore = max(maxScores[i], maxScores[j])\n",
    "            dist = maxScore - score\n",
    "            \n",
    "            matrix[i][j] = dist\n",
    "            matrix[j][i] = dist\n",
    "            \n",
    "    return matrix"
   ]
  },
  {
   "cell_type": "code",
   "execution_count": 1,
   "metadata": {},
   "outputs": [
    {
     "name": "stdout",
     "output_type": "stream",
     "text": [
      "[[ 0.   0.5  0.3  0.6]\n",
      " [ 0.5  0.   0.5  0.5]\n",
      " [ 0.5  0.5  0.   0.4]\n",
      " [ 0.6  0.5  0.4  0. ]]\n"
     ]
    }
   ],
   "source": [
    "import numpy as np\n",
    "dMatrix_Values = ([[0, 0.5, 0.3, 0.6], [0.5, 0, 0.5, 0.5], \n",
    "                   [0.5, 0.5, 0, 0.4], [0.6, 0.5, 0.4, 0]])\n",
    "dMatrix = np.reshape(dMatrix_Values, (4, 4))\n",
    "print dMatrix"
   ]
  }
 ],
 "metadata": {
  "kernelspec": {
   "display_name": "Python 2",
   "language": "python",
   "name": "python2"
  },
  "language_info": {
   "codemirror_mode": {
    "name": "ipython",
    "version": 2
   },
   "file_extension": ".py",
   "mimetype": "text/x-python",
   "name": "python",
   "nbconvert_exporter": "python",
   "pygments_lexer": "ipython2",
   "version": "2.7.13"
  }
 },
 "nbformat": 4,
 "nbformat_minor": 2
}
