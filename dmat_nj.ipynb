{
 "cells": [
  {
   "cell_type": "markdown",
   "metadata": {},
   "source": [
    "# Neighbor-Joining Algorithm"
   ]
  },
  {
   "cell_type": "markdown",
   "metadata": {},
   "source": [
    "Below is a similarity matrix determined by the likelihood of transition vs transversion mutations. Over the entire genome, a base that is related by a transition to another base is twice as likely to be mutated to that base than a base it is related to by transversion. For example, A and G are related by transition, since they are both purines. A transition mutation from A to G or vice-versa would then be twice as likely as a transversion mutation. Thus, in a similarity matrix, we could define an A to G mutation or a G to A transition as half as dissimilar as any transversion mutation. We could also define the lack of mutation, in which a base stays the same, as a score of 0. Scores in this similarity matrix range from identical at 0 to very dissimilar at 2."
   ]
  },
  {
   "cell_type": "code",
   "execution_count": 1,
   "metadata": {
    "collapsed": true
   },
   "outputs": [],
   "source": [
    "DNA_sim = {'G': { 'A': 1, 'G': 0, 'C': 2, 'T': 2 },\n",
    "         'C': { 'A': 1, 'G': 2, 'C': 0, 'T': 1 },\n",
    "         'T': { 'A': 2, 'G': 2, 'C': 1, 'T': 0 },\n",
    "         'A': { 'A': 0, 'G': 1, 'C': 2, 'T': 2 }}\n",
    "\n",
    "seq = ['CAGCCGCACACAGATCCTGAG',\n",
    "       'CAGCTGCACGCAGATCCTGAG',\n",
    "       'CGGCTGCACGCAGATCCTGAG',\n",
    "       'CAGCTGCACGTGGATCCTGAG',\n",
    "       'CGGCTGCACGTGGATCCTGAG',\n",
    "       'CGGCTGCACGTGGATCCTGAG',\n",
    "       'CAGCTGCATGTGGACCCTGAG', \n",
    "       'CAGCTGCATGTGGACCCAGAG', \n",
    "       'CGGCTGCATGTGGACCCAGAT']"
   ]
  },
  {
   "cell_type": "markdown",
   "metadata": {},
   "source": [
    "This function calculates the similarity between two sequences given the penalties listed in the similarity matrix sim_mat."
   ]
  },
  {
   "cell_type": "code",
   "execution_count": 2,
   "metadata": {
    "collapsed": true
   },
   "outputs": [],
   "source": [
    "def seq_sim(s1, s2, sim_mat):\n",
    "    \n",
    "  # needed if one sequence is longer than the other  \n",
    "  num_bases = min(len(s1), len(s2))\n",
    "  \n",
    "  seq_score = 0\n",
    "  \n",
    "  for x in range(num_bases):\n",
    "    \n",
    "    bases1 = s1[x]\n",
    "    bases2 = s2[x]\n",
    "  \n",
    "    seq_score += sim_mat[bases1][bases2]\n",
    "\n",
    "  return seq_score"
   ]
  },
  {
   "cell_type": "markdown",
   "metadata": {},
   "source": [
    "This function aligns any two sequences."
   ]
  },
  {
   "cell_type": "code",
   "execution_count": 3,
   "metadata": {
    "collapsed": true
   },
   "outputs": [],
   "source": [
    "def seq_align(s1, s2, sim_mat=DNA_sim, insert=8, extend=4):\n",
    "\n",
    "  num_s1 = len(s1) + 1\n",
    "  num_s2 = len(s2) + 1\n",
    "\n",
    "  score_mat = [[0] * num_s2 for x in range(num_s1)]\n",
    "  rt_mat = [[0] * num_s2 for x in range(num_s1)]\n",
    "  \n",
    "  for i in range(1, num_s1):\n",
    "    rt_mat[i][0] = 1\n",
    "  \n",
    "  for j in range(1, num_s2):\n",
    "    rt_mat[0][j] = 2\n",
    "  \n",
    "  for i in range(1, num_s1):\n",
    "    for j in range(1, num_s2):\n",
    "    \n",
    "      penalty1 = insert\n",
    "      penalty2 = insert\n",
    "      \n",
    "      if rt_mat[i-1][j] == 1:\n",
    "        penalty1 = extend\n",
    "        \n",
    "      elif rt_mat[i][j-1] == 2:\n",
    "        penalty2 = extend\n",
    "        \n",
    "      sim = sim_mat[ s1[i-1] ][ s2[j-1] ]\n",
    "      \n",
    "      paths = [score_mat[i-1][j-1] + sim,\n",
    "               score_mat[i-1][j] - penalty1,\n",
    "               score_mat[i][j-1] - penalty2]                   \n",
    "      \n",
    "      best = max(paths)\n",
    "      rt = paths.index(best)           \n",
    "\n",
    "      score_mat[i][j] = best\n",
    "      rt_mat[i][j] = rt\n",
    "      \n",
    "  align_s1 = []\n",
    "  align_s2 = []\n",
    "  \n",
    "  i = num_s1-1\n",
    "  j = num_s2-1\n",
    "  score = score_mat[i][j]\n",
    "  \n",
    "  align_s1.reverse()\n",
    "  align_s2.reverse()\n",
    "  align_s1 = ''.join(align_s1)\n",
    "  align_s2 = ''.join(align_s2)\n",
    "\n",
    "  return score, align_s1, align_s2 \n"
   ]
  },
  {
   "cell_type": "markdown",
   "metadata": {},
   "source": [
    "This function calculates the distance matrix for given sequence data."
   ]
  },
  {
   "cell_type": "code",
   "execution_count": 4,
   "metadata": {
    "collapsed": true
   },
   "outputs": [],
   "source": [
    "def calc_dist_mat(seq_data, sim_mat):\n",
    "\n",
    "  n = len(seq_data)\n",
    "  matrix = [[0] * n for i in range(n)]\n",
    "  maxScores = [seq_sim(i, i, sim_mat) for i in seq_data]\n",
    "\n",
    "  for i in range(n-1):\n",
    "    s1 = seq_data[i]\n",
    "  \n",
    "    for j in range(i+1,n):\n",
    "      s2 = seq_data[j]\n",
    "      \n",
    "      score, align_s1, align_s2 = seq_align(s1, s2, sim_mat)\n",
    "      maxScore = max(maxScores[i],maxScores[j])\n",
    "      dist = maxScore - score\n",
    "      \n",
    "      matrix[i][j] = dist\n",
    "      matrix[j][i] = dist\n",
    "\n",
    "  return matrix"
   ]
  },
  {
   "cell_type": "markdown",
   "metadata": {},
   "source": [
    "This function uses the distance matrix to determine which pairs of sequences should be joined."
   ]
  },
  {
   "cell_type": "code",
   "execution_count": 5,
   "metadata": {
    "collapsed": true
   },
   "outputs": [],
   "source": [
    "def njPair(dist_mat):\n",
    "    n = len(dist_mat)\n",
    "    \n",
    "    minM = None\n",
    "    njPair = None\n",
    "    \n",
    "    # sum of rows of dist_mat; range(n-1) because indexed at 0\n",
    "    for i in range(n-1):\n",
    "        Rn = sum(dist_mat[i])\n",
    "        \n",
    "        # sum of columns/following row of dist_mat\n",
    "        for j in range(i+1, n):\n",
    "            Rm = sum(dist_mat[j])\n",
    "            \n",
    "            # dnm is exactly as in formula\n",
    "            dnm = dist_mat[i][j]\n",
    "            Mnm = (n-2)*dnm - Rn - Rm\n",
    "            \n",
    "            # assigns lowest Mnm value to a node\n",
    "            if (minM is None) or (Mnm < minM):\n",
    "                minM = Mnm\n",
    "                njPair = [i, j]\n",
    "                return njPair"
   ]
  },
  {
   "cell_type": "markdown",
   "metadata": {},
   "source": [
    "This function determines the distance of each sequence to the node formed by the first two sequences paired."
   ]
  },
  {
   "cell_type": "code",
   "execution_count": 6,
   "metadata": {
    "collapsed": true
   },
   "outputs": [],
   "source": [
    "def distToNode(dist_mat, i, j):\n",
    "  \n",
    "  n = len(dist_mat)\n",
    "  Rn = sum(dist_mat[i]) # sum of rows\n",
    "  Rm = sum(dist_mat[j]) # sum of columns\n",
    "    \n",
    "  dnm = dist_mat[i][j] # value in distance matrix at i,j or n,m\n",
    " \n",
    "  dist = dnm + (Rn-Rm)/(n-2)\n",
    "  dist *= 0.5 # multiply the equation directly above by 1/2\n",
    "\n",
    "  return dist"
   ]
  },
  {
   "cell_type": "markdown",
   "metadata": {},
   "source": [
    "This function enacts the neighbor-joining algorithm given the distance matrix of a dataset of sequences."
   ]
  },
  {
   "cell_type": "code",
   "execution_count": 7,
   "metadata": {
    "collapsed": true
   },
   "outputs": [],
   "source": [
    "def njTree(dist_mat):\n",
    " \n",
    "  node_ord = []\n",
    "  n = len(dist_mat)\n",
    "  tree = list(range(n))\n",
    "  \n",
    "  while n > 2:\n",
    "    \n",
    "    x, y = njPair(dist_mat)\n",
    "\n",
    "    node = (tree[x], tree[y])\n",
    "    node_ord.append(node)\n",
    "    tree.append(node)\n",
    "\n",
    "    del tree[y]\n",
    "    del tree[x]\n",
    "\n",
    "    distX = distToNode(dist_mat, x, y)\n",
    "    distY = distToNode(dist_mat, y, x)\n",
    "  \n",
    "    dist_mat.append([0] * (n+1))\n",
    "\n",
    "    for i in range(n):\n",
    "      if i not in (x,y):\n",
    "\n",
    "        dist = (dist_mat[x][i]-distX) + (dist_mat[y][i]-distY)\n",
    "        dist *= 0.5\n",
    "  \n",
    "        dist_mat[i].append(dist)\n",
    "        dist_mat[n][i] = dist\n",
    "\n",
    "    del dist_mat[y]\n",
    "    del dist_mat[x]\n",
    "  \n",
    "    for row in dist_mat:\n",
    "      del row[y]\n",
    "      del row[x]\n",
    "\n",
    "    n -= 1\n",
    "\n",
    "  tree = tuple(tree)\n",
    "  node_ord.append(tree)\n",
    "  \n",
    "  return tree, node_ord\n"
   ]
  },
  {
   "cell_type": "code",
   "execution_count": 8,
   "metadata": {
    "collapsed": true
   },
   "outputs": [],
   "source": [
    "dist_mat = calc_dist_mat(seq, DNA_sim)"
   ]
  },
  {
   "cell_type": "code",
   "execution_count": 9,
   "metadata": {},
   "outputs": [
    {
     "name": "stdout",
     "output_type": "stream",
     "text": [
      "['0.0', '-20.0', '-20.0', '-20.0', '-21.0', '-21.0', '-20.0', '-20.0', '-22.0']\n",
      "['-20.0', '0.0', '-20.0', '-20.0', '-21.0', '-21.0', '-20.0', '-20.0', '-22.0']\n",
      "['-20.0', '-20.0', '0.0', '-20.0', '-20.0', '-20.0', '-19.0', '-19.0', '-21.0']\n",
      "['-20.0', '-20.0', '-20.0', '0.0', '-20.0', '-20.0', '-19.0', '-19.0', '-21.0']\n",
      "['-21.0', '-21.0', '-20.0', '-20.0', '0.0', '-19.0', '-19.0', '-18.0', '-20.0']\n",
      "['-21.0', '-21.0', '-20.0', '-20.0', '-19.0', '0.0', '-19.0', '-18.0', '-20.0']\n",
      "['-20.0', '-20.0', '-19.0', '-19.0', '-19.0', '-19.0', '0.0', '-18.0', '-20.0']\n",
      "['-20.0', '-20.0', '-19.0', '-19.0', '-18.0', '-18.0', '-18.0', '0.0', '-19.0']\n",
      "['-22.0', '-22.0', '-21.0', '-21.0', '-20.0', '-20.0', '-20.0', '-19.0', '0.0']\n",
      "\n",
      "Which is the closest sequence pair in the sequence data?\n",
      "[0, 1]\n"
     ]
    }
   ],
   "source": [
    "for row in dist_mat:\n",
    "    print(['%.1f' % i for i in row])\n",
    "  \n",
    "print(\"\\nWhich is the closest sequence pair in the sequence data?\")\n",
    "\n",
    "print(njPair(dist_mat))\n",
    "\n",
    "dist_mat = calc_dist_mat(seq, DNA_sim)\n",
    "tree, node_ord = njTree(dist_mat)"
   ]
  },
  {
   "cell_type": "code",
   "execution_count": 10,
   "metadata": {
    "scrolled": true
   },
   "outputs": [
    {
     "name": "stdout",
     "output_type": "stream",
     "text": [
      "(((2, 3), (4, 5)), ((6, 7), (8, (0, 1))))\n"
     ]
    }
   ],
   "source": [
    "treedata = tree\n",
    "print(treedata) # Result : (((7, (0, 1)), (4, 5)), ((2, 3), (6, 8)))"
   ]
  },
  {
   "cell_type": "code",
   "execution_count": 11,
   "metadata": {},
   "outputs": [
    {
     "name": "stdout",
     "output_type": "stream",
     "text": [
      "              _____ 2\n",
      "        _____|\n",
      "       |     |_____ 3\n",
      "  _____|\n",
      " |     |      _____ 4\n",
      " |     |_____|\n",
      " |           |_____ 5\n",
      "_|\n",
      " |            _____ 6\n",
      " |      _____|\n",
      " |     |     |_____ 7\n",
      " |_____|\n",
      "       |      _____ 8\n",
      "       |_____|\n",
      "             |      _____ 0\n",
      "             |_____|\n",
      "                   |_____ 1\n",
      "\n"
     ]
    },
    {
     "data": {
      "image/png": "[encoded data removed]",
      "text/plain": [
       "<matplotlib.figure.Figure at 0x74670509bfd0>"
      ]
     },
     "metadata": {},
     "output_type": "display_data"
    }
   ],
   "source": [
    "from Bio import Phylo as phy\n",
    "\n",
    "'''\n",
    "A lot of BioPython's functions only take file-like objects, \n",
    "StringIO just creates a memory buffer that lets a string pretend \n",
    "to be a file (technically a string buffer)\n",
    "'''\n",
    "from io import StringIO\n",
    "\n",
    "# create string buffer from Newick string\n",
    "tree_str = StringIO(str(treedata))\n",
    "# read tree into a Phylo tree object\n",
    "tree = phy.read(tree_str, 'newick')\n",
    "\n",
    "'''\n",
    "Prints ASCII tree to standard output (probably the console unless \n",
    "your setup is weird). If you want it saved to a file either pipe \n",
    "the output to a file in terminal or use sys.out (look it up)\n",
    "'''\n",
    "phy.draw_ascii(tree, column_width=30)\n",
    "\n",
    "# if you're too cool for ASCII art (or just born after 1995), Phylo can also draw trees in matplotlib\n",
    "phy.draw(tree)"
   ]
  },
  {
   "cell_type": "markdown",
   "metadata": {},
   "source": [
    "To add noise, we added random point mutations in a larger dataset."
   ]
  },
  {
   "cell_type": "code",
   "execution_count": 12,
   "metadata": {
    "collapsed": true
   },
   "outputs": [],
   "source": [
    "seq2 = ['CAGCCGCACACAGATCCTGAG',\n",
    "       'CAGCTGCACGCAGATCCTGAG',\n",
    "       'CGGCTGCACGCAGATCCTGAG',\n",
    "       'CAGCTGCACGTGGATCCTGAG',\n",
    "       'CGGCTGCACGTCGATCCTGAG',\n",
    "       'CGGCTGCACGTGGATCCTGAG',\n",
    "       'CAGCTGCATGTGGACCCTGAG', \n",
    "       'CAGCTGCATGTGGACCCAGAG', \n",
    "       'CGGCTCCATGTGGACCCAGAT'\n",
    "       'CAGCTGCACGCAGATTTCAAG',\n",
    "       'CGGCTGCACGCAGATTTCGAG',\n",
    "       'CAGCTGCACGTGGATTTCGAG',\n",
    "       'CGGCTGCACGAGGATCCTGAG'\n",
    "       'CAGCTGCACGCAGATCCTCAG',\n",
    "       'CGCCTGCACGCAGATCCTGAG',\n",
    "       'CAGCTGCACGTGGATCCTGAG',\n",
    "       'CGCCTGCACGTGGATCCAGAG']"
   ]
  },
  {
   "cell_type": "code",
   "execution_count": 13,
   "metadata": {
    "collapsed": true
   },
   "outputs": [],
   "source": [
    "dist_mat2 = calc_dist_mat(seq2, DNA_sim)"
   ]
  },
  {
   "cell_type": "code",
   "execution_count": 14,
   "metadata": {},
   "outputs": [
    {
     "name": "stdout",
     "output_type": "stream",
     "text": [
      "['0.0', '0.2']\n",
      "['0.2', '0.0']\n",
      "\n",
      "Which is the closest sequence pair in the sequence data?\n",
      "[0, 1]\n"
     ]
    }
   ],
   "source": [
    "for row in dist_mat:\n",
    "    print(['%.1f' % i for i in row])\n",
    "  \n",
    "print(\"\\nWhich is the closest sequence pair in the sequence data?\")\n",
    "\n",
    "print(njPair(dist_mat))\n",
    "tree2, node_ord = njTree(dist_mat2)"
   ]
  },
  {
   "cell_type": "code",
   "execution_count": 15,
   "metadata": {},
   "outputs": [
    {
     "name": "stdout",
     "output_type": "stream",
     "text": [
      "(((14, (0, 1)), ((2, 3), (4, 5))), (((6, 7), (8, 9)), ((10, 11), (12, 13))))\n"
     ]
    }
   ],
   "source": [
    "treedata2 = tree2\n",
    "print(treedata2)"
   ]
  },
  {
   "cell_type": "code",
   "execution_count": 16,
   "metadata": {},
   "outputs": [
    {
     "name": "stdout",
     "output_type": "stream",
     "text": [
      "             _____ 14\n",
      "       _____|\n",
      "      |     |      _____ 0\n",
      "      |     |_____|\n",
      "      |           |_____ 1\n",
      "  ____|\n",
      " |    |            _____ 2\n",
      " |    |      _____|\n",
      " |    |     |     |_____ 3\n",
      " |    |_____|\n",
      " |          |      _____ 4\n",
      " |          |_____|\n",
      " |                |_____ 5\n",
      "_|\n",
      " |                 _____ 6\n",
      " |           _____|\n",
      " |          |     |_____ 7\n",
      " |     _____|\n",
      " |    |     |      _____ 8\n",
      " |    |     |_____|\n",
      " |    |           |_____ 9\n",
      " |____|\n",
      "      |            _____ 10\n",
      "      |      _____|\n",
      "      |     |     |_____ 11\n",
      "      |_____|\n",
      "            |      _____ 12\n",
      "            |_____|\n",
      "                  |_____ 13\n",
      "\n"
     ]
    },
    {
     "data": {
      "image/png": "[encoded data removed]",
      "text/plain": [
       "<matplotlib.figure.Figure at 0x7466ec1bd160>"
      ]
     },
     "metadata": {},
     "output_type": "display_data"
    }
   ],
   "source": [
    "# create string buffer from Newick string\n",
    "tree_str = StringIO(str(treedata2))\n",
    "# read tree into a Phylo tree object\n",
    "tree = phy.read(tree_str, 'newick')\n",
    "\n",
    "'''\n",
    "Prints ASCII tree to standard output (probably the console unless \n",
    "your setup is weird). If you want it saved to a file either pipe \n",
    "the output to a file in terminal or use sys.out (look it up)\n",
    "'''\n",
    "phy.draw_ascii(tree, column_width=30)\n",
    "\n",
    "# if you're too cool for ASCII art (or just born after 1995), Phylo can also draw trees in matplotlib\n",
    "phy.draw(tree)"
   ]
  }
 ],
 "metadata": {
  "kernelspec": {
   "display_name": "Python 3",
   "language": "python",
   "name": "python3"
  },
  "language_info": {
   "codemirror_mode": {
    "name": "ipython",
    "version": 3
   },
   "file_extension": ".py",
   "mimetype": "text/x-python",
   "name": "python",
   "nbconvert_exporter": "python",
   "pygments_lexer": "ipython3",
   "version": "3.6.2"
  }
 },
 "nbformat": 4,
 "nbformat_minor": 2
}
