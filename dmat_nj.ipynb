{
 "cells": [
  {
   "cell_type": "markdown",
   "metadata": {},
   "source": [
    "# Neighbor-Joining Algorithm"
   ]
  },
  {
   "cell_type": "code",
   "execution_count": 1,
   "metadata": {
    "collapsed": true
   },
   "outputs": [],
   "source": [
    "DNA_sim = {'G': { 'G':1, 'C':0, 'A':0, 'T':0 },\n",
    "         'C': { 'G':0, 'C':1, 'A':0, 'T':0 },\n",
    "         'A': { 'G':0, 'C':0, 'A':1, 'T':0 },\n",
    "         'T': { 'G':0, 'C':0, 'A':0, 'T':1 }}\n",
    "\n",
    "DNA_sim2 = {'G': { 'G': 1, 'C':-3, 'A':-2, 'T':-2},\n",
    "         'C': { 'G':-2, 'C': 1, 'A':-2, 'T':-2},\n",
    "         'A': { 'G':-2, 'C':-2, 'A': 1, 'T':-2},\n",
    "         'T': { 'G':-2, 'C':-2, 'A':-2, 'T': 1}}  \n",
    "\n",
    "seq1 = ['CAGCCGCACACAGACCCTGAG',\n",
    "            'CAGCTGCCCGCAGACCCTGAG',\n",
    "            'CGGCTGCACGCAGACCCTGAG',\n",
    "            'CAGCTGCATGTGGACCCTGAG',\n",
    "            'CGGGTGCACGTGGACCCTGAG',\n",
    "            'TGGCTGCACGTGGACCCTGAG',\n",
    "            'AAGCTGCATGTGGACCCTGAG']"
   ]
  },
  {
   "cell_type": "markdown",
   "metadata": {},
   "source": [
    "This function calculates the similarity between two sequences given the penalties listed in the similarity matrix sim_mat."
   ]
  },
  {
   "cell_type": "code",
   "execution_count": 2,
   "metadata": {
    "collapsed": true
   },
   "outputs": [],
   "source": [
    "def seq_sim(s1, s2, sim_mat):\n",
    "    \n",
    "  # needed if one sequence is longer than the other  \n",
    "  num_bases = min(len(s1), len(s2))\n",
    "  \n",
    "  seq_score = float(0)\n",
    "  \n",
    "  for i in range(num_bases):\n",
    "    \n",
    "    bases1 = s1[i]\n",
    "    bases2 = s2[i]\n",
    "  \n",
    "    seq_score += sim_mat[bases1][bases2]\n",
    "\n",
    "  return seq_score"
   ]
  },
  {
   "cell_type": "markdown",
   "metadata": {},
   "source": [
    "This function aligns any two sequences."
   ]
  },
  {
   "cell_type": "code",
   "execution_count": 3,
   "metadata": {
    "collapsed": true
   },
   "outputs": [],
   "source": [
    "def seq_align(s1, s2, sim_mat=DNA_sim2):\n",
    "\n",
    "  num_s1 = len(s1) + 1\n",
    "  num_s2 = len(s2) + 1\n",
    "\n",
    "  smat = [[0] * num_s2 for x in range(num_s1)]\n",
    "\n",
    "  for i in range(1, num_s1):\n",
    "    for j in range(1, num_s2):\n",
    "        \n",
    "      sim = sim_mat[ s1[i-1] ][ s2[j-1] ]\n",
    "      \n",
    "      posib = [smat[i-1][j-1] + sim]                   \n",
    "      \n",
    "      lgst = max(posib)\n",
    "      smat[i][j] = lgst\n",
    "      \n",
    "  align_s1 = []\n",
    "  align_s2 = []\n",
    "  \n",
    "  i = num_s1-1\n",
    "  j = num_s2-1\n",
    "  score = smat[i][j]\n",
    "  \n",
    "  align_s1.reverse()\n",
    "  align_s2.reverse()\n",
    "  align_s1 = ''.join(align_s1)\n",
    "  align_s2 = ''.join(align_s2)\n",
    "\n",
    "  return score, align_s1, align_s2 \n"
   ]
  },
  {
   "cell_type": "markdown",
   "metadata": {},
   "source": [
    "This function calculates the distance matrix for given sequence data."
   ]
  },
  {
   "cell_type": "code",
   "execution_count": 4,
   "metadata": {
    "collapsed": true
   },
   "outputs": [],
   "source": [
    "def calc_dist_mat(seq_data, sim_mat):\n",
    "\n",
    "  n = len(seq_data)\n",
    "  matrix = [[0] * n for i in range(n)]\n",
    "  max_vals = [seq_sim(i, i, sim_mat) for i in seq_data]\n",
    "\n",
    "  for i in range(n-1):\n",
    "    s1 = seq_data[i]\n",
    "  \n",
    "    for j in range(i+1,n):\n",
    "      s2 = seq_data[j]\n",
    "      \n",
    "      val, align_s1, align_s2 = seq_align(s1, s2, sim_mat)\n",
    "      max_val = max(max_vals[i],max_vals[j])\n",
    "      dist = max_val - val;\n",
    "      \n",
    "      matrix[i][j] = dist\n",
    "      matrix[j][i] = dist\n",
    "\n",
    "  return matrix"
   ]
  },
  {
   "cell_type": "markdown",
   "metadata": {},
   "source": [
    "This function uses the distance matrix to determine which pairs of sequences should be joined."
   ]
  },
  {
   "cell_type": "code",
   "execution_count": 5,
   "metadata": {
    "collapsed": true
   },
   "outputs": [],
   "source": [
    "def njPair(dist_mat):\n",
    "    n = len(dist_mat)\n",
    "    \n",
    "    minM = None\n",
    "    nj_Pair = None\n",
    "    \n",
    "    # sum of rows of dist_mat; range(n-1) because indexed at 0\n",
    "    for i in range(n-1):\n",
    "        Rn = sum(dist_mat[i])\n",
    "        \n",
    "        # sum of columns/following row of dist_mat\n",
    "        for j in range(i+1, n):\n",
    "            Rm = sum(dist_mat[j])\n",
    "            \n",
    "            # dnm is exactly as in formula\n",
    "            dnm = dist_mat[i][j]\n",
    "            Mnm = (n-2)*dnm - Rn - Rm\n",
    "            \n",
    "            # assigns lowest Mnm value to a node\n",
    "            if (minM is None) or (Mnm < minM):\n",
    "                minM = Mnm\n",
    "                nj_Pair = [i, j]\n",
    "    return nj_Pair"
   ]
  },
  {
   "cell_type": "markdown",
   "metadata": {},
   "source": [
    "This function determines the distance of each sequence to the node formed by the first two sequences paired."
   ]
  },
  {
   "cell_type": "code",
   "execution_count": 6,
   "metadata": {
    "collapsed": true
   },
   "outputs": [],
   "source": [
    "def distToNode(dist_mat, i, j):\n",
    "  \n",
    "  n = len(dist_mat)\n",
    "  Rn = sum(dist_mat[i]) # sum of rows\n",
    "  Rm = sum(dist_mat[j]) # sum of columns\n",
    "    \n",
    "  dnm = dist_mat[i][j] # value in distance matrix at i,j or n,m\n",
    " \n",
    "  dist = dnm + (Rn-Rm)/(n-2)\n",
    "  dist *= 0.5 # multiply the equation directly above by 1/2\n",
    "\n",
    "  return dist"
   ]
  },
  {
   "cell_type": "markdown",
   "metadata": {},
   "source": [
    "This function enacts the neighbor-joining algorithm given the distance matrix of a dataset of sequences."
   ]
  },
  {
   "cell_type": "code",
   "execution_count": 7,
   "metadata": {
    "collapsed": true
   },
   "outputs": [],
   "source": [
    "def njTree(dist_mat):\n",
    " \n",
    "  node_ord = []\n",
    "  n = len(dist_mat)\n",
    "  tree = list(range(n))\n",
    "  \n",
    "  while n > 2:\n",
    "    \n",
    "    # x, y are the closest pair and should be joined during this first round\n",
    "    x, y = njPair(dist_mat)\n",
    "\n",
    "    # node corresponds to positions x and y in distance matrix and tree list\n",
    "    node = (tree[x], tree[y])\n",
    "    \n",
    "    # new branch node added to node_ord list and tree list\n",
    "    node_ord.append(node)\n",
    "    tree.append(node)\n",
    "    \n",
    "    # must delete y element first since largest list index must be deleted first\n",
    "    # otherwise, deleting smaller index x will shuffle rest of list by one\n",
    "    del tree[y]\n",
    "    del tree[x]\n",
    "    \n",
    "    \n",
    "    # calculate distance from joined x, y positions to new node\n",
    "    distX = distToNode(dist_mat, x, y)\n",
    "    distY = distToNode(dist_mat, y, x)\n",
    "  \n",
    "    dist_mat.append([0] * (n+1))\n",
    "\n",
    "    # loop through all positions in the distance matrix, except newly added one\n",
    "    for i in range(n):\n",
    "      if i not in (x,y):\n",
    "\n",
    "        dist = (dist_mat[x][i]-distX) + (dist_mat[y][i]-distY)\n",
    "        dist *= 0.5\n",
    "  \n",
    "        # fill in new distance values for ends of row/column i\n",
    "        dist_mat[i].append(dist)\n",
    "        dist_mat[n][i] = dist\n",
    "\n",
    "    # delete old x and y positions from matrix\n",
    "    del dist_mat[y]\n",
    "    del dist_mat[x]\n",
    "    \n",
    "    # delete two rows and then loop through rest of rows and delete corresponding two cols\n",
    "    for row in dist_mat:\n",
    "      del row[y]\n",
    "      del row[x]\n",
    "\n",
    "    # decrease n by one, since after merging, distance matrix one row/column smaller\n",
    "    n -= 1\n",
    "\n",
    "  # convert tree list to tuple to allow Newick notation output\n",
    "  tree = tuple(tree)\n",
    "  node_ord.append(tree)\n",
    "  \n",
    "  return tree, node_ord\n"
   ]
  },
  {
   "cell_type": "code",
   "execution_count": 8,
   "metadata": {
    "collapsed": true
   },
   "outputs": [],
   "source": [
    "dist_mat = calc_dist_mat(seq1, DNA_sim)"
   ]
  },
  {
   "cell_type": "code",
   "execution_count": 9,
   "metadata": {},
   "outputs": [
    {
     "name": "stdout",
     "output_type": "stream",
     "text": [
      "['0.0', '3.0', '3.0', '5.0', '6.0', '6.0', '6.0']\n",
      "['3.0', '0.0', '2.0', '4.0', '5.0', '5.0', '5.0']\n",
      "['3.0', '2.0', '0.0', '4.0', '3.0', '3.0', '5.0']\n",
      "['5.0', '4.0', '4.0', '0.0', '3.0', '3.0', '1.0']\n",
      "['6.0', '5.0', '3.0', '3.0', '0.0', '2.0', '4.0']\n",
      "['6.0', '5.0', '3.0', '3.0', '2.0', '0.0', '3.0']\n",
      "['6.0', '5.0', '5.0', '1.0', '4.0', '3.0', '0.0']\n",
      "\n",
      "Which is the closest sequence pair in the sequence data?\n",
      "[3, 6]\n"
     ]
    }
   ],
   "source": [
    "for row in dist_mat:\n",
    "    print(['%.1f' % x for x in row])\n",
    "    \n",
    "print(\"\\nWhich is the closest sequence pair in the sequence data?\")\n",
    "\n",
    "print(njPair(dist_mat))\n",
    "\n",
    "dist_mat = calc_dist_mat(seq1, DNA_sim)\n",
    "tree, node_ord = njTree(dist_mat)"
   ]
  },
  {
   "cell_type": "code",
   "execution_count": 10,
   "metadata": {
    "scrolled": true
   },
   "outputs": [
    {
     "name": "stdout",
     "output_type": "stream",
     "text": [
      "((4, 5), ((3, 6), (2, (0, 1))))\n"
     ]
    }
   ],
   "source": [
    "treedata = tree\n",
    "print(treedata)"
   ]
  },
  {
   "cell_type": "code",
   "execution_count": 11,
   "metadata": {},
   "outputs": [
    {
     "name": "stdout",
     "output_type": "stream",
     "text": [
      "        _____ 4\n",
      "  _____|\n",
      " |     |_____ 5\n",
      " |\n",
      "_|            _____ 3\n",
      " |      _____|\n",
      " |     |     |_____ 6\n",
      " |_____|\n",
      "       |      _____ 2\n",
      "       |_____|\n",
      "             |      ______ 0\n",
      "             |_____|\n",
      "                   |______ 1\n",
      "\n"
     ]
    },
    {
     "data": {
      "image/png": "[encoded data removed]",
      "text/plain": [
       "<matplotlib.figure.Figure at 0x788094dd5a58>"
      ]
     },
     "metadata": {},
     "output_type": "display_data"
    }
   ],
   "source": [
    "from Bio import Phylo as phy\n",
    "\n",
    "'''\n",
    "A lot of BioPython's functions only take file-like objects, \n",
    "StringIO just creates a memory buffer that lets a string pretend \n",
    "to be a file (technically a string buffer)\n",
    "'''\n",
    "from io import StringIO\n",
    "\n",
    "# create string buffer from Newick string\n",
    "tree_str = StringIO(str(treedata))\n",
    "# read tree into a Phylo tree object\n",
    "tree = phy.read(tree_str, 'newick')\n",
    "\n",
    "'''\n",
    "Prints ASCII tree to standard output (probably the console unless \n",
    "your setup is weird). If you want it saved to a file either pipe \n",
    "the output to a file in terminal or use sys.out (look it up)\n",
    "'''\n",
    "phy.draw_ascii(tree, column_width=30)\n",
    "\n",
    "# if you're too cool for ASCII art (or just born after 1995), Phylo can also draw trees in matplotlib\n",
    "phy.draw(tree)"
   ]
  },
  {
   "cell_type": "markdown",
   "metadata": {},
   "source": [
    "To add noise, we added random point mutations in a larger dataset."
   ]
  },
  {
   "cell_type": "code",
   "execution_count": 12,
   "metadata": {
    "collapsed": true
   },
   "outputs": [],
   "source": [
    "seq2 = ['CAGCCGCACACAGATCCTGAG',\n",
    "       'CAGCTGCACGCAGATCCTGAG',\n",
    "       'CGGCTGCACGCAGATCCTGAG',\n",
    "       'CAGCTGCACGTGGATCCTGAG',\n",
    "       'CGGCTGCACGTCGATCCTGAG',\n",
    "       'CGGCTGCACGTGGATCCTGAG',\n",
    "       'CAGCTGCATGTGGACCCTGAG', \n",
    "       'CAGCTGCATGTGGACCCAGAG', \n",
    "       'AGGCTCCATGTGGACCCAGAT'\n",
    "       'CAGCTGCACGCAGATTTCAAG',\n",
    "       'CGGCTGCACGCAGATTTCGAG',\n",
    "       'CAGCTGCACGTGGATTTCGAG',\n",
    "       'CGGCTGCACTAGGATCCTGAG'\n",
    "       'CAGCTGCACGCAGATCCTCAG',\n",
    "       'AGCCTGCTCGCAGATCCTGAG',\n",
    "       'CAGCTGCACGTGGATCCTGAG',\n",
    "       'CGCCTGCACGTTGATGCAGAG']"
   ]
  },
  {
   "cell_type": "code",
   "execution_count": 13,
   "metadata": {
    "collapsed": true
   },
   "outputs": [],
   "source": [
    "dist_mat2 = calc_dist_mat(seq2, DNA_sim)"
   ]
  },
  {
   "cell_type": "code",
   "execution_count": 14,
   "metadata": {},
   "outputs": [
    {
     "name": "stdout",
     "output_type": "stream",
     "text": [
      "['0.0', '2.0', '3.0', '4.0', '5.0', '5.0', '6.0', '7.0', '27.0', '6.0', '7.0', '24.0', '6.0', '4.0', '8.0']\n",
      "['2.0', '0.0', '1.0', '2.0', '3.0', '3.0', '4.0', '5.0', '25.0', '4.0', '5.0', '22.0', '4.0', '2.0', '6.0']\n",
      "['3.0', '1.0', '0.0', '3.0', '2.0', '2.0', '5.0', '6.0', '26.0', '3.0', '6.0', '23.0', '3.0', '3.0', '5.0']\n",
      "['4.0', '2.0', '3.0', '0.0', '2.0', '1.0', '2.0', '3.0', '27.0', '6.0', '3.0', '24.0', '6.0', '0.0', '5.0']\n",
      "['5.0', '3.0', '2.0', '2.0', '0.0', '1.0', '4.0', '5.0', '28.0', '5.0', '5.0', '25.0', '5.0', '2.0', '4.0']\n",
      "['5.0', '3.0', '2.0', '1.0', '1.0', '0.0', '3.0', '4.0', '28.0', '5.0', '4.0', '25.0', '5.0', '1.0', '4.0']\n",
      "['6.0', '4.0', '5.0', '2.0', '4.0', '3.0', '0.0', '1.0', '29.0', '8.0', '5.0', '26.0', '8.0', '2.0', '7.0']\n",
      "['7.0', '5.0', '6.0', '3.0', '5.0', '4.0', '1.0', '0.0', '29.0', '8.0', '5.0', '27.0', '9.0', '3.0', '6.0']\n",
      "['27.0', '25.0', '26.0', '27.0', '28.0', '28.0', '29.0', '29.0', '0.0', '23.0', '24.0', '12.0', '29.0', '27.0', '29.0']\n",
      "['6.0', '4.0', '3.0', '6.0', '5.0', '5.0', '8.0', '8.0', '23.0', '0.0', '3.0', '26.0', '6.0', '6.0', '6.0']\n",
      "['7.0', '5.0', '6.0', '3.0', '5.0', '4.0', '5.0', '5.0', '24.0', '3.0', '0.0', '27.0', '9.0', '3.0', '6.0']\n",
      "['24.0', '22.0', '23.0', '24.0', '25.0', '25.0', '26.0', '27.0', '12.0', '26.0', '27.0', '0.0', '26.0', '24.0', '28.0']\n",
      "['6.0', '4.0', '3.0', '6.0', '5.0', '5.0', '8.0', '9.0', '29.0', '6.0', '9.0', '26.0', '0.0', '6.0', '6.0']\n",
      "['4.0', '2.0', '3.0', '0.0', '2.0', '1.0', '2.0', '3.0', '27.0', '6.0', '3.0', '24.0', '6.0', '0.0', '5.0']\n",
      "['8.0', '6.0', '5.0', '5.0', '4.0', '4.0', '7.0', '6.0', '29.0', '6.0', '6.0', '28.0', '6.0', '5.0', '0.0']\n",
      "\n",
      "Which is the closest sequence pair in the sequence data?\n",
      "[8, 11]\n"
     ]
    }
   ],
   "source": [
    "for row in dist_mat2:\n",
    "    print(['%.1f' % x for x in row])\n",
    "\n",
    "print(\"\\nWhich is the closest sequence pair in the sequence data?\")\n",
    "\n",
    "print(njPair(dist_mat2))\n",
    "tree2, node_ord = njTree(dist_mat2)"
   ]
  },
  {
   "cell_type": "code",
   "execution_count": 15,
   "metadata": {},
   "outputs": [
    {
     "name": "stdout",
     "output_type": "stream",
     "text": [
      "((4, (5, ((6, 7), (3, 13)))), (14, (((8, 11), (9, 10)), ((0, 1), (2, 12)))))\n"
     ]
    }
   ],
   "source": [
    "treedata2 = tree2\n",
    "print(treedata2)"
   ]
  },
  {
   "cell_type": "code",
   "execution_count": 16,
   "metadata": {},
   "outputs": [
    {
     "name": "stdout",
     "output_type": "stream",
     "text": [
      "      ____ 4\n",
      "     |\n",
      "  ___|     ___ 5\n",
      " |   |    |\n",
      " |   |____|         ____ 6\n",
      " |        |    ____|\n",
      " |        |   |    |____ 7\n",
      " |        |___|\n",
      " |            |     ____ 3\n",
      "_|            |____|\n",
      " |                 |____ 13\n",
      " |\n",
      " |    ____ 14\n",
      " |   |\n",
      " |   |              ____ 8\n",
      " |   |         ____|\n",
      " |___|        |    |____ 11\n",
      "     |     ___|\n",
      "     |    |   |     ____ 9\n",
      "     |    |   |____|\n",
      "     |    |        |____ 10\n",
      "     |____|\n",
      "          |         ____ 0\n",
      "          |    ____|\n",
      "          |   |    |____ 1\n",
      "          |___|\n",
      "              |     ____ 2\n",
      "              |____|\n",
      "                   |____ 12\n",
      "\n"
     ]
    },
    {
     "data": {
      "image/png": "[encoded data removed]",
      "text/plain": [
       "<matplotlib.figure.Figure at 0x78807c089828>"
      ]
     },
     "metadata": {},
     "output_type": "display_data"
    }
   ],
   "source": [
    "# create string buffer from Newick string\n",
    "tree_str = StringIO(str(treedata2))\n",
    "# read tree into a Phylo tree object\n",
    "tree = phy.read(tree_str, 'newick')\n",
    "\n",
    "'''\n",
    "Prints ASCII tree to standard output (probably the console unless \n",
    "your setup is weird). If you want it saved to a file either pipe \n",
    "the output to a file in terminal or use sys.out (look it up)\n",
    "'''\n",
    "phy.draw_ascii(tree, column_width=30)\n",
    "\n",
    "# if you're too cool for ASCII art (or just born after 1995), Phylo can also draw trees in matplotlib\n",
    "phy.draw(tree)"
   ]
  }
 ],
 "metadata": {
  "kernelspec": {
   "display_name": "Python 3",
   "language": "python",
   "name": "python3"
  },
  "language_info": {
   "codemirror_mode": {
    "name": "ipython",
    "version": 3
   },
   "file_extension": ".py",
   "mimetype": "text/x-python",
   "name": "python",
   "nbconvert_exporter": "python",
   "pygments_lexer": "ipython3",
   "version": "3.6.2"
  }
 },
 "nbformat": 4,
 "nbformat_minor": 2
}
